{
 "cells": [
  {
   "cell_type": "code",
   "execution_count": 6,
   "id": "average-buffer",
   "metadata": {},
   "outputs": [],
   "source": [
    "import cv2  \n",
    "  \n",
    "# Load the cascade  \n",
    "face_cascade = cv2.CascadeClassifier(cv2.data.haarcascades + \"haarcascade_frontalface_default.xml\")\n",
    "body_cascade = cv2.CascadeClassifier(cv2.data.haarcascades + \"haarcascade_fullbody.xml\")\n",
    "  \n",
    "# To capture video from webcam.   \n",
    "cap = cv2.VideoCapture(0)  \n",
    "  \n",
    "while True:  \n",
    "    # Read the frame  \n",
    "    _, img = cap.read()  \n",
    "  \n",
    "    # Convert to grayscale  \n",
    "    gray = cv2.cvtColor(img, cv2.COLOR_BGR2GRAY) \n",
    "    \n",
    "    # remove noise and equalize the histograme\n",
    "    clahe = cv2.createCLAHE(clipLimit = 5).apply(gray) \n",
    "    Gauss = cv2.GaussianBlur(clahe,(5,5),cv2.BORDER_DEFAULT)\n",
    "  \n",
    "    # Detect the faces and body\n",
    "    faces = face_cascade.detectMultiScale(Gauss, 1.1, 4)  \n",
    "    body = body_cascade.detectMultiScale(Gauss, 1.1, 4)  \n",
    "  \n",
    "    # Draw the rectangle around each face  \n",
    "    for (x, y, w, h) in faces:  \n",
    "        cv2.rectangle(img, (x, y), (x+w, y+h), (130, 130, 50), 2)  \n",
    "  \n",
    "    # Draw the rectangle around each body  \n",
    "    for (x, y, w, h) in body:  \n",
    "        cv2.rectangle(img, (x, y), (x+w, y+h), (0, 130, 50), 2)  \n",
    "        \n",
    "    # Display  \n",
    "    cv2.imshow('Video', img)  \n",
    "  \n",
    "    # Stop if escape key is pressed  \n",
    "    if cv2.waitKey(30)==ord('q'):  \n",
    "        break  \n",
    "          \n",
    "# Release the VideoCapture object  \n",
    "cap.release()  \n",
    "cv2.destroyAllWindows()"
   ]
  },
  {
   "cell_type": "code",
   "execution_count": null,
   "id": "lasting-witch",
   "metadata": {},
   "outputs": [],
   "source": []
  }
 ],
 "metadata": {
  "kernelspec": {
   "display_name": "Python 3",
   "language": "python",
   "name": "python3"
  },
  "language_info": {
   "codemirror_mode": {
    "name": "ipython",
    "version": 3
   },
   "file_extension": ".py",
   "mimetype": "text/x-python",
   "name": "python",
   "nbconvert_exporter": "python",
   "pygments_lexer": "ipython3",
   "version": "3.7.6"
  }
 },
 "nbformat": 4,
 "nbformat_minor": 5
}
